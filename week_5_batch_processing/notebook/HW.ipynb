{
 "cells": [
  {
   "cell_type": "code",
   "execution_count": 1,
   "id": "ad5f1160",
   "metadata": {},
   "outputs": [],
   "source": [
    "import pyspark\n",
    "from pyspark.sql import SparkSession"
   ]
  },
  {
   "cell_type": "code",
   "execution_count": 2,
   "id": "82b5ee93",
   "metadata": {},
   "outputs": [
    {
     "name": "stderr",
     "output_type": "stream",
     "text": [
      "22/02/28 22:43:56 WARN Utils: Your hostname, BOLD-2018144 resolves to a loopback address: 127.0.1.1; using 172.29.7.81 instead (on interface eth0)\n",
      "22/02/28 22:43:56 WARN Utils: Set SPARK_LOCAL_IP if you need to bind to another address\n",
      "WARNING: An illegal reflective access operation has occurred\n",
      "WARNING: Illegal reflective access by org.apache.spark.unsafe.Platform (file:/home/loliveira/data-engineering-zoomcamp-by-LO/week_5_batch_processing/spark-3.0.3-bin-hadoop3.2/jars/spark-unsafe_2.12-3.0.3.jar) to constructor java.nio.DirectByteBuffer(long,int)\n",
      "WARNING: Please consider reporting this to the maintainers of org.apache.spark.unsafe.Platform\n",
      "WARNING: Use --illegal-access=warn to enable warnings of further illegal reflective access operations\n",
      "WARNING: All illegal access operations will be denied in a future release\n",
      "22/02/28 22:43:58 WARN NativeCodeLoader: Unable to load native-hadoop library for your platform... using builtin-java classes where applicable\n",
      "Using Spark's default log4j profile: org/apache/spark/log4j-defaults.properties\n",
      "Setting default log level to \"WARN\".\n",
      "To adjust logging level use sc.setLogLevel(newLevel). For SparkR, use setLogLevel(newLevel).\n",
      "22/02/28 22:44:00 WARN Utils: Service 'SparkUI' could not bind on port 4040. Attempting port 4041.\n",
      "22/02/28 22:44:00 WARN Utils: Service 'SparkUI' could not bind on port 4041. Attempting port 4042.\n",
      "22/02/28 22:44:00 WARN Utils: Service 'SparkUI' could not bind on port 4042. Attempting port 4043.\n"
     ]
    }
   ],
   "source": [
    "spark = SparkSession.builder \\\n",
    "    .master(\"local[*]\") \\\n",
    "    .appName('test') \\\n",
    "    .getOrCreate()"
   ]
  },
  {
   "cell_type": "code",
   "execution_count": 3,
   "id": "c77282f4",
   "metadata": {},
   "outputs": [
    {
     "data": {
      "text/plain": [
       "'3.0.3'"
      ]
     },
     "execution_count": 3,
     "metadata": {},
     "output_type": "execute_result"
    }
   ],
   "source": [
    "spark.version"
   ]
  },
  {
   "cell_type": "code",
   "execution_count": 6,
   "id": "7bfcd387",
   "metadata": {},
   "outputs": [
    {
     "name": "stdout",
     "output_type": "stream",
     "text": [
      "--2022-02-25 23:32:51--  https://nyc-tlc.s3.amazonaws.com/trip+data/fhvhv_tripdata_2021-02.csv\n",
      "Resolving nyc-tlc.s3.amazonaws.com (nyc-tlc.s3.amazonaws.com)... 52.216.248.100\n",
      "Connecting to nyc-tlc.s3.amazonaws.com (nyc-tlc.s3.amazonaws.com)|52.216.248.100|:443... connected.\n",
      "HTTP request sent, awaiting response... 200 OK\n",
      "Length: 733822658 (700M) [text/csv]\n",
      "Saving to: ‘fhvhv_tripdata_2021-02.csv’\n",
      "\n",
      "fhvhv_tripdata_2021 100%[===================>] 699.83M  2.37MB/s    in 5m 23s  \n",
      "\n",
      "2022-02-25 23:38:14 (2.17 MB/s) - ‘fhvhv_tripdata_2021-02.csv’ saved [733822658/733822658]\n",
      "\n"
     ]
    }
   ],
   "source": [
    "!wget https://nyc-tlc.s3.amazonaws.com/trip+data/fhvhv_tripdata_2021-02.csv"
   ]
  },
  {
   "cell_type": "code",
   "execution_count": 4,
   "id": "ea2f6a02",
   "metadata": {},
   "outputs": [
    {
     "name": "stderr",
     "output_type": "stream",
     "text": [
      "\r",
      "[Stage 0:>                                                          (0 + 1) / 1]\r",
      "\r",
      "                                                                                \r"
     ]
    }
   ],
   "source": [
    "df = spark.read \\\n",
    "    .option(\"header\", \"true\") \\\n",
    "    .csv('fhvhv_tripdata_2021-02.csv')"
   ]
  },
  {
   "cell_type": "code",
   "execution_count": 5,
   "id": "d1f6401f",
   "metadata": {},
   "outputs": [
    {
     "data": {
      "text/plain": [
       "StructType(List(StructField(hvfhs_license_num,StringType,true),StructField(dispatching_base_num,StringType,true),StructField(pickup_datetime,StringType,true),StructField(dropoff_datetime,StringType,true),StructField(PULocationID,StringType,true),StructField(DOLocationID,StringType,true),StructField(SR_Flag,StringType,true)))"
      ]
     },
     "execution_count": 5,
     "metadata": {},
     "output_type": "execute_result"
    }
   ],
   "source": [
    "df.schema"
   ]
  },
  {
   "cell_type": "code",
   "execution_count": 9,
   "id": "9eb4496e",
   "metadata": {},
   "outputs": [],
   "source": [
    "!head -n 1001 fhvhv_tripdata_2021-02.csv > head_HW.csv"
   ]
  },
  {
   "cell_type": "code",
   "execution_count": 11,
   "id": "3af54002",
   "metadata": {},
   "outputs": [],
   "source": [
    "import pandas as pd\n",
    "df_pandas=pd.read_csv('head_HW.csv')"
   ]
  },
  {
   "cell_type": "code",
   "execution_count": 12,
   "id": "a32345ba",
   "metadata": {},
   "outputs": [
    {
     "data": {
      "text/html": [
       "<div>\n",
       "<style scoped>\n",
       "    .dataframe tbody tr th:only-of-type {\n",
       "        vertical-align: middle;\n",
       "    }\n",
       "\n",
       "    .dataframe tbody tr th {\n",
       "        vertical-align: top;\n",
       "    }\n",
       "\n",
       "    .dataframe thead th {\n",
       "        text-align: right;\n",
       "    }\n",
       "</style>\n",
       "<table border=\"1\" class=\"dataframe\">\n",
       "  <thead>\n",
       "    <tr style=\"text-align: right;\">\n",
       "      <th></th>\n",
       "      <th>hvfhs_license_num</th>\n",
       "      <th>dispatching_base_num</th>\n",
       "      <th>pickup_datetime</th>\n",
       "      <th>dropoff_datetime</th>\n",
       "      <th>PULocationID</th>\n",
       "      <th>DOLocationID</th>\n",
       "      <th>SR_Flag</th>\n",
       "    </tr>\n",
       "  </thead>\n",
       "  <tbody>\n",
       "    <tr>\n",
       "      <th>0</th>\n",
       "      <td>HV0003</td>\n",
       "      <td>B02764</td>\n",
       "      <td>2021-02-01 00:10:40</td>\n",
       "      <td>2021-02-01 00:21:09</td>\n",
       "      <td>35</td>\n",
       "      <td>39</td>\n",
       "      <td>NaN</td>\n",
       "    </tr>\n",
       "    <tr>\n",
       "      <th>1</th>\n",
       "      <td>HV0003</td>\n",
       "      <td>B02764</td>\n",
       "      <td>2021-02-01 00:27:23</td>\n",
       "      <td>2021-02-01 00:44:01</td>\n",
       "      <td>39</td>\n",
       "      <td>35</td>\n",
       "      <td>NaN</td>\n",
       "    </tr>\n",
       "    <tr>\n",
       "      <th>2</th>\n",
       "      <td>HV0005</td>\n",
       "      <td>B02510</td>\n",
       "      <td>2021-02-01 00:28:38</td>\n",
       "      <td>2021-02-01 00:38:27</td>\n",
       "      <td>39</td>\n",
       "      <td>91</td>\n",
       "      <td>NaN</td>\n",
       "    </tr>\n",
       "    <tr>\n",
       "      <th>3</th>\n",
       "      <td>HV0005</td>\n",
       "      <td>B02510</td>\n",
       "      <td>2021-02-01 00:43:37</td>\n",
       "      <td>2021-02-01 01:23:20</td>\n",
       "      <td>91</td>\n",
       "      <td>228</td>\n",
       "      <td>NaN</td>\n",
       "    </tr>\n",
       "    <tr>\n",
       "      <th>4</th>\n",
       "      <td>HV0003</td>\n",
       "      <td>B02872</td>\n",
       "      <td>2021-02-01 00:08:42</td>\n",
       "      <td>2021-02-01 00:17:57</td>\n",
       "      <td>126</td>\n",
       "      <td>250</td>\n",
       "      <td>NaN</td>\n",
       "    </tr>\n",
       "  </tbody>\n",
       "</table>\n",
       "</div>"
      ],
      "text/plain": [
       "  hvfhs_license_num dispatching_base_num      pickup_datetime  \\\n",
       "0            HV0003               B02764  2021-02-01 00:10:40   \n",
       "1            HV0003               B02764  2021-02-01 00:27:23   \n",
       "2            HV0005               B02510  2021-02-01 00:28:38   \n",
       "3            HV0005               B02510  2021-02-01 00:43:37   \n",
       "4            HV0003               B02872  2021-02-01 00:08:42   \n",
       "\n",
       "      dropoff_datetime  PULocationID  DOLocationID  SR_Flag  \n",
       "0  2021-02-01 00:21:09            35            39      NaN  \n",
       "1  2021-02-01 00:44:01            39            35      NaN  \n",
       "2  2021-02-01 00:38:27            39            91      NaN  \n",
       "3  2021-02-01 01:23:20            91           228      NaN  \n",
       "4  2021-02-01 00:17:57           126           250      NaN  "
      ]
     },
     "execution_count": 12,
     "metadata": {},
     "output_type": "execute_result"
    }
   ],
   "source": [
    "df_pandas.head()"
   ]
  },
  {
   "cell_type": "code",
   "execution_count": 14,
   "id": "959833b8",
   "metadata": {},
   "outputs": [
    {
     "data": {
      "text/plain": [
       "hvfhs_license_num        object\n",
       "dispatching_base_num     object\n",
       "pickup_datetime          object\n",
       "dropoff_datetime         object\n",
       "PULocationID              int64\n",
       "DOLocationID              int64\n",
       "SR_Flag                 float64\n",
       "dtype: object"
      ]
     },
     "execution_count": 14,
     "metadata": {},
     "output_type": "execute_result"
    }
   ],
   "source": [
    "df_pandas.dtypes"
   ]
  },
  {
   "cell_type": "code",
   "execution_count": 6,
   "id": "b0c33773",
   "metadata": {},
   "outputs": [],
   "source": [
    "from pyspark.sql import types\n",
    "schema = types.StructType([\n",
    "    types.StructField('hvfhs_license_num', types.StringType(), True),\n",
    "    types.StructField('dispatching_base_num', types.StringType(), True),\n",
    "    types.StructField('pickup_datetime', types.TimestampType(), True),\n",
    "    types.StructField('dropoff_datetime', types.TimestampType(), True),\n",
    "    types.StructField('PULocationID', types.IntegerType(), True),\n",
    "    types.StructField('DOLocationID', types.IntegerType(), True),\n",
    "    types.StructField('SR_Flag', types.StringType(), True)\n",
    "])"
   ]
  },
  {
   "cell_type": "code",
   "execution_count": 7,
   "id": "25a2023f",
   "metadata": {},
   "outputs": [],
   "source": [
    "df = spark.read \\\n",
    "    .option(\"header\", \"true\") \\\n",
    "    .schema(schema) \\\n",
    "    .csv('fhvhv_tripdata_2021-02.csv')"
   ]
  },
  {
   "cell_type": "code",
   "execution_count": 8,
   "id": "00489cf4",
   "metadata": {},
   "outputs": [
    {
     "data": {
      "text/plain": [
       "StructType(List(StructField(hvfhs_license_num,StringType,true),StructField(dispatching_base_num,StringType,true),StructField(pickup_datetime,TimestampType,true),StructField(dropoff_datetime,TimestampType,true),StructField(PULocationID,IntegerType,true),StructField(DOLocationID,IntegerType,true),StructField(SR_Flag,StringType,true)))"
      ]
     },
     "execution_count": 8,
     "metadata": {},
     "output_type": "execute_result"
    }
   ],
   "source": [
    "df.schema"
   ]
  },
  {
   "cell_type": "code",
   "execution_count": 9,
   "id": "073e9351",
   "metadata": {},
   "outputs": [],
   "source": [
    "df = df.repartition(24)"
   ]
  },
  {
   "cell_type": "code",
   "execution_count": 10,
   "id": "ef46e3a9",
   "metadata": {},
   "outputs": [
    {
     "name": "stderr",
     "output_type": "stream",
     "text": [
      "22/02/28 22:47:57 WARN MemoryManager: Total allocation exceeds 95.00% (1,020,054,720 bytes) of heap memory\n",
      "Scaling row group sizes to 95.00% for 8 writers\n",
      "22/02/28 22:48:01 WARN MemoryManager: Total allocation exceeds 95.00% (1,020,054,720 bytes) of heap memory\n",
      "Scaling row group sizes to 95.00% for 8 writers\n",
      "22/02/28 22:48:04 WARN MemoryManager: Total allocation exceeds 95.00% (1,020,054,720 bytes) of heap memory\n",
      "Scaling row group sizes to 95.00% for 8 writers\n",
      "                                                                                \r"
     ]
    }
   ],
   "source": [
    "df.write.parquet('fhvhv/2021/02/')"
   ]
  },
  {
   "cell_type": "code",
   "execution_count": 15,
   "id": "cf1042f6",
   "metadata": {},
   "outputs": [
    {
     "name": "stdout",
     "output_type": "stream",
     "text": [
      "total 206M\r\n",
      "-rw-r--r-- 1 loliveira loliveira    0 Feb 28 22:48 _SUCCESS\r\n",
      "-rw-r--r-- 1 loliveira loliveira 8.6M Feb 28 22:48 part-00000-6ae67bf8-5b18-4a0a-8ebf-566a16cd360e-c000.snappy.parquet\r\n",
      "-rw-r--r-- 1 loliveira loliveira 8.6M Feb 28 22:48 part-00001-6ae67bf8-5b18-4a0a-8ebf-566a16cd360e-c000.snappy.parquet\r\n",
      "-rw-r--r-- 1 loliveira loliveira 8.6M Feb 28 22:48 part-00002-6ae67bf8-5b18-4a0a-8ebf-566a16cd360e-c000.snappy.parquet\r\n",
      "-rw-r--r-- 1 loliveira loliveira 8.6M Feb 28 22:48 part-00003-6ae67bf8-5b18-4a0a-8ebf-566a16cd360e-c000.snappy.parquet\r\n",
      "-rw-r--r-- 1 loliveira loliveira 8.6M Feb 28 22:48 part-00004-6ae67bf8-5b18-4a0a-8ebf-566a16cd360e-c000.snappy.parquet\r\n",
      "-rw-r--r-- 1 loliveira loliveira 8.6M Feb 28 22:48 part-00005-6ae67bf8-5b18-4a0a-8ebf-566a16cd360e-c000.snappy.parquet\r\n",
      "-rw-r--r-- 1 loliveira loliveira 8.6M Feb 28 22:48 part-00006-6ae67bf8-5b18-4a0a-8ebf-566a16cd360e-c000.snappy.parquet\r\n",
      "-rw-r--r-- 1 loliveira loliveira 8.6M Feb 28 22:48 part-00007-6ae67bf8-5b18-4a0a-8ebf-566a16cd360e-c000.snappy.parquet\r\n",
      "-rw-r--r-- 1 loliveira loliveira 8.6M Feb 28 22:48 part-00008-6ae67bf8-5b18-4a0a-8ebf-566a16cd360e-c000.snappy.parquet\r\n",
      "-rw-r--r-- 1 loliveira loliveira 8.6M Feb 28 22:48 part-00009-6ae67bf8-5b18-4a0a-8ebf-566a16cd360e-c000.snappy.parquet\r\n",
      "-rw-r--r-- 1 loliveira loliveira 8.6M Feb 28 22:48 part-00010-6ae67bf8-5b18-4a0a-8ebf-566a16cd360e-c000.snappy.parquet\r\n",
      "-rw-r--r-- 1 loliveira loliveira 8.6M Feb 28 22:48 part-00011-6ae67bf8-5b18-4a0a-8ebf-566a16cd360e-c000.snappy.parquet\r\n",
      "-rw-r--r-- 1 loliveira loliveira 8.6M Feb 28 22:48 part-00012-6ae67bf8-5b18-4a0a-8ebf-566a16cd360e-c000.snappy.parquet\r\n",
      "-rw-r--r-- 1 loliveira loliveira 8.6M Feb 28 22:48 part-00013-6ae67bf8-5b18-4a0a-8ebf-566a16cd360e-c000.snappy.parquet\r\n",
      "-rw-r--r-- 1 loliveira loliveira 8.6M Feb 28 22:48 part-00014-6ae67bf8-5b18-4a0a-8ebf-566a16cd360e-c000.snappy.parquet\r\n",
      "-rw-r--r-- 1 loliveira loliveira 8.6M Feb 28 22:48 part-00015-6ae67bf8-5b18-4a0a-8ebf-566a16cd360e-c000.snappy.parquet\r\n",
      "-rw-r--r-- 1 loliveira loliveira 8.6M Feb 28 22:48 part-00016-6ae67bf8-5b18-4a0a-8ebf-566a16cd360e-c000.snappy.parquet\r\n",
      "-rw-r--r-- 1 loliveira loliveira 8.6M Feb 28 22:48 part-00017-6ae67bf8-5b18-4a0a-8ebf-566a16cd360e-c000.snappy.parquet\r\n",
      "-rw-r--r-- 1 loliveira loliveira 8.6M Feb 28 22:48 part-00018-6ae67bf8-5b18-4a0a-8ebf-566a16cd360e-c000.snappy.parquet\r\n",
      "-rw-r--r-- 1 loliveira loliveira 8.6M Feb 28 22:48 part-00019-6ae67bf8-5b18-4a0a-8ebf-566a16cd360e-c000.snappy.parquet\r\n",
      "-rw-r--r-- 1 loliveira loliveira 8.6M Feb 28 22:48 part-00020-6ae67bf8-5b18-4a0a-8ebf-566a16cd360e-c000.snappy.parquet\r\n",
      "-rw-r--r-- 1 loliveira loliveira 8.6M Feb 28 22:48 part-00021-6ae67bf8-5b18-4a0a-8ebf-566a16cd360e-c000.snappy.parquet\r\n",
      "-rw-r--r-- 1 loliveira loliveira 8.6M Feb 28 22:48 part-00022-6ae67bf8-5b18-4a0a-8ebf-566a16cd360e-c000.snappy.parquet\r\n",
      "-rw-r--r-- 1 loliveira loliveira 8.6M Feb 28 22:48 part-00023-6ae67bf8-5b18-4a0a-8ebf-566a16cd360e-c000.snappy.parquet\r\n"
     ]
    }
   ],
   "source": [
    "!ls -lh fhvhv/2021/02"
   ]
  },
  {
   "cell_type": "code",
   "execution_count": 16,
   "id": "8c712fa8",
   "metadata": {},
   "outputs": [],
   "source": [
    "df=spark.read.parquet('fhvhv/2021/02/')"
   ]
  },
  {
   "cell_type": "code",
   "execution_count": 17,
   "id": "df034e77",
   "metadata": {},
   "outputs": [
    {
     "data": {
      "text/plain": [
       "DataFrame[hvfhs_license_num: string, dispatching_base_num: string, pickup_datetime: timestamp, dropoff_datetime: timestamp, PULocationID: int, DOLocationID: int, SR_Flag: string]"
      ]
     },
     "execution_count": 17,
     "metadata": {},
     "output_type": "execute_result"
    }
   ],
   "source": [
    "df"
   ]
  },
  {
   "cell_type": "code",
   "execution_count": 18,
   "id": "b9d6f860",
   "metadata": {},
   "outputs": [
    {
     "name": "stdout",
     "output_type": "stream",
     "text": [
      "root\n",
      " |-- hvfhs_license_num: string (nullable = true)\n",
      " |-- dispatching_base_num: string (nullable = true)\n",
      " |-- pickup_datetime: timestamp (nullable = true)\n",
      " |-- dropoff_datetime: timestamp (nullable = true)\n",
      " |-- PULocationID: integer (nullable = true)\n",
      " |-- DOLocationID: integer (nullable = true)\n",
      " |-- SR_Flag: string (nullable = true)\n",
      "\n"
     ]
    }
   ],
   "source": [
    "df.printSchema()"
   ]
  },
  {
   "cell_type": "code",
   "execution_count": 20,
   "id": "6a4ba7ce",
   "metadata": {},
   "outputs": [],
   "source": [
    "from pyspark.sql import functions as F"
   ]
  },
  {
   "cell_type": "code",
   "execution_count": 23,
   "id": "598f25e3",
   "metadata": {},
   "outputs": [
    {
     "name": "stdout",
     "output_type": "stream",
     "text": [
      "+-----------------+-----------+------------+------------+------------+\n",
      "|hvfhs_license_num|pickup_date|dropoff_date|PULocationID|DOLocationID|\n",
      "+-----------------+-----------+------------+------------+------------+\n",
      "|           HV0005| 2021-02-04|  2021-02-04|          81|          81|\n",
      "|           HV0003| 2021-02-03|  2021-02-03|          29|         154|\n",
      "|           HV0003| 2021-02-03|  2021-02-03|         203|         203|\n",
      "|           HV0005| 2021-02-02|  2021-02-02|          91|         179|\n",
      "|           HV0003| 2021-02-03|  2021-02-03|         126|         116|\n",
      "|           HV0003| 2021-02-04|  2021-02-04|          56|           9|\n",
      "|           HV0003| 2021-02-04|  2021-02-04|          81|          53|\n",
      "|           HV0003| 2021-02-04|  2021-02-04|          18|         168|\n",
      "|           HV0005| 2021-02-04|  2021-02-04|         136|         116|\n",
      "|           HV0005| 2021-02-04|  2021-02-04|           7|         159|\n",
      "|           HV0003| 2021-02-04|  2021-02-04|         122|         101|\n",
      "|           HV0003| 2021-02-03|  2021-02-03|         198|         157|\n",
      "|           HV0005| 2021-02-04|  2021-02-04|          61|          76|\n",
      "|           HV0005| 2021-02-04|  2021-02-04|         181|          54|\n",
      "|           HV0005| 2021-02-04|  2021-02-04|          26|         155|\n",
      "|           HV0003| 2021-02-03|  2021-02-03|         137|         137|\n",
      "|           HV0003| 2021-02-04|  2021-02-04|         262|         164|\n",
      "|           HV0003| 2021-02-02|  2021-02-02|         147|         213|\n",
      "|           HV0003| 2021-02-03|  2021-02-03|          22|         108|\n",
      "|           HV0003| 2021-02-02|  2021-02-02|         196|          62|\n",
      "+-----------------+-----------+------------+------------+------------+\n",
      "only showing top 20 rows\n",
      "\n"
     ]
    }
   ],
   "source": [
    "df \\\n",
    "    .withColumn('pickup_date', F.to_date(df.pickup_datetime)) \\\n",
    "    .withColumn('dropoff_date', F.to_date(df.dropoff_datetime)) \\\n",
    "    .select('hvfhs_license_num', 'pickup_date', 'dropoff_date', 'PULocationID', 'DOLocationID').show()"
   ]
  },
  {
   "cell_type": "code",
   "execution_count": 24,
   "id": "dff3af48",
   "metadata": {},
   "outputs": [
    {
     "name": "stdout",
     "output_type": "stream",
     "text": [
      "+-----------------+--------------------+-------------------+-------------------+------------+------------+-------+\n",
      "|hvfhs_license_num|dispatching_base_num|    pickup_datetime|   dropoff_datetime|PULocationID|DOLocationID|SR_Flag|\n",
      "+-----------------+--------------------+-------------------+-------------------+------------+------------+-------+\n",
      "|           HV0005|              B02510|2021-02-04 06:56:20|2021-02-04 06:58:25|          81|          81|   null|\n",
      "|           HV0003|              B02876|2021-02-03 20:04:21|2021-02-03 20:19:09|          29|         154|   null|\n",
      "|           HV0003|              B02880|2021-02-03 07:21:31|2021-02-03 07:29:04|         203|         203|   null|\n",
      "|           HV0005|              B02510|2021-02-02 11:30:49|2021-02-02 12:11:16|          91|         179|   null|\n",
      "|           HV0003|              B02879|2021-02-03 18:54:27|2021-02-03 19:18:29|         126|         116|   null|\n",
      "|           HV0003|              B02875|2021-02-04 17:57:59|2021-02-04 18:17:56|          56|           9|   null|\n",
      "|           HV0003|              B02682|2021-02-04 07:04:00|2021-02-04 07:21:02|          81|          53|   null|\n",
      "|           HV0003|              B02877|2021-02-04 21:20:52|2021-02-04 21:37:36|          18|         168|   null|\n",
      "|           HV0005|              B02510|2021-02-04 15:05:15|2021-02-04 15:29:45|         136|         116|   null|\n",
      "|           HV0005|              B02510|2021-02-04 10:37:02|2021-02-04 11:13:15|           7|         159|   null|\n",
      "|           HV0003|              B02878|2021-02-04 09:40:25|2021-02-04 09:56:00|         122|         101|   null|\n",
      "|           HV0003|              B02764|2021-02-03 06:40:44|2021-02-03 06:47:45|         198|         157|   null|\n",
      "|           HV0005|              B02510|2021-02-04 19:10:59|2021-02-04 19:38:05|          61|          76|   null|\n",
      "|           HV0005|              B02510|2021-02-04 14:16:56|2021-02-04 14:33:34|         181|          54|   null|\n",
      "|           HV0005|              B02510|2021-02-04 15:58:43|2021-02-04 16:28:39|          26|         155|   null|\n",
      "|           HV0003|              B02764|2021-02-03 06:48:06|2021-02-03 06:54:36|         137|         137|   null|\n",
      "|           HV0003|              B02765|2021-02-04 16:26:49|2021-02-04 16:56:06|         262|         164|   null|\n",
      "|           HV0003|              B02872|2021-02-02 18:30:42|2021-02-02 18:40:50|         147|         213|   null|\n",
      "|           HV0003|              B02869|2021-02-03 14:29:13|2021-02-03 14:43:23|          22|         108|   null|\n",
      "|           HV0003|              B02869|2021-02-02 10:04:16|2021-02-02 10:27:12|         196|          62|   null|\n",
      "+-----------------+--------------------+-------------------+-------------------+------------+------------+-------+\n",
      "only showing top 20 rows\n",
      "\n"
     ]
    }
   ],
   "source": [
    "df.show()"
   ]
  }
 ],
 "metadata": {
  "kernelspec": {
   "display_name": "Python 3 (ipykernel)",
   "language": "python",
   "name": "python3"
  },
  "language_info": {
   "codemirror_mode": {
    "name": "ipython",
    "version": 3
   },
   "file_extension": ".py",
   "mimetype": "text/x-python",
   "name": "python",
   "nbconvert_exporter": "python",
   "pygments_lexer": "ipython3",
   "version": "3.8.10"
  }
 },
 "nbformat": 4,
 "nbformat_minor": 5
}
